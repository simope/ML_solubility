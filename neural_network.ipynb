{
 "cells": [
  {
   "cell_type": "markdown",
   "id": "de9c6bdb",
   "metadata": {},
   "source": [
    "## Neural Network for molecules solubility"
   ]
  },
  {
   "cell_type": "markdown",
   "id": "5e85e660",
   "metadata": {},
   "source": [
    "To avoid repetition, I will add already the engineered features obtained in the other notebooks, to start with a better dataset."
   ]
  },
  {
   "cell_type": "code",
   "execution_count": 1,
   "id": "461970de",
   "metadata": {},
   "outputs": [],
   "source": [
    "import pandas as pd\n",
    "from rdkit.Chem import Descriptors\n",
    "from rdkit import Chem\n",
    "\n",
    "from src.utils import show_accuracy\n",
    "\n",
    "# Reading csv\n",
    "sol_df = pd.read_csv(\"data/delaney-processed.csv\")\n",
    "\n",
    "# First create the molecule object for each entry\n",
    "sol_df[\"rdkit_mol\"] = sol_df[\"smiles\"].apply(Chem.MolFromSmiles)\n",
    "\n",
    "# Then use that to extract other features with RDkit\n",
    "sol_df[\"MolLogP\"] = sol_df[\"rdkit_mol\"].apply(Descriptors.MolLogP)\n",
    "sol_df[\"MolMR\"] = sol_df[\"rdkit_mol\"].apply(Descriptors.MolMR)\n",
    "sol_df[\"HeavyAtomCount\"] = sol_df[\"rdkit_mol\"].apply(Descriptors.HeavyAtomCount)\n",
    "sol_df[\"FractionCSP3\"] = sol_df[\"rdkit_mol\"].apply(Descriptors.FractionCSP3)\n",
    "sol_df[\"TPSA\"] = sol_df[\"rdkit_mol\"].apply(Descriptors.TPSA)\n",
    "sol_df[\"NumAromaticRings\"] = sol_df[\"rdkit_mol\"].apply(Descriptors.NumAromaticRings)\n",
    "sol_df[\"NumHDonors\"] = sol_df[\"rdkit_mol\"].apply(Descriptors.NumHDonors)\n",
    "sol_df[\"NumHAcceptors\"] = sol_df[\"rdkit_mol\"].apply(Descriptors.NumHAcceptors)\n",
    "\n",
    "rel_features = [\n",
    "    \"Molecular Weight\",\n",
    "    \"Minimum Degree\",\n",
    "    \"Number of H-Bond Donors\",\n",
    "    \"Number of Rings\",\n",
    "    \"Number of Rotatable Bonds\",\n",
    "    \"Polar Surface Area\",\n",
    "    \"MolLogP\",\n",
    "    \"MolMR\",\n",
    "    \"HeavyAtomCount\",\n",
    "    \"FractionCSP3\",\n",
    "    \"TPSA\",\n",
    "    \"NumAromaticRings\",\n",
    "    \"NumHDonors\",\n",
    "    \"NumHAcceptors\",\n",
    "]\n",
    "target = \"measured log solubility in mols per litre\""
   ]
  },
  {
   "cell_type": "markdown",
   "id": "0f06f98f",
   "metadata": {},
   "source": [
    "#### Prepare the datasets"
   ]
  },
  {
   "cell_type": "code",
   "execution_count": null,
   "id": "0af0568d",
   "metadata": {},
   "outputs": [],
   "source": [
    "import torch\n",
    "from torch.utils.data import TensorDataset, DataLoader\n",
    "from sklearn.preprocessing import StandardScaler\n",
    "from sklearn.model_selection import train_test_split\n",
    "\n",
    "X = sol_df[rel_features].values\n",
    "y = sol_df[target].values.reshape(-1, 1)\n",
    "\n",
    "# Scale features\n",
    "scaler_X = StandardScaler()\n",
    "scaler_y = StandardScaler()\n",
    "\n",
    "X_scaled = scaler_X.fit_transform(X)\n",
    "y_scaled = scaler_y.fit_transform(y)\n",
    "\n",
    "# Train/test split\n",
    "X_train, X_test, y_train, y_test = train_test_split(\n",
    "    X_scaled, y_scaled, test_size=0.2, random_state=42\n",
    ")\n",
    "\n",
    "# Convert to PyTorch tensors\n",
    "X_train_tensor = torch.tensor(X_train, dtype=torch.float32)\n",
    "y_train_tensor = torch.tensor(y_train, dtype=torch.float32)\n",
    "X_test_tensor = torch.tensor(X_test, dtype=torch.float32)\n",
    "y_test_tensor = torch.tensor(y_test, dtype=torch.float32)\n",
    "\n",
    "# Dataloaders\n",
    "train_dataset = TensorDataset(X_train_tensor, y_train_tensor)\n",
    "train_loader = DataLoader(train_dataset, batch_size=32, shuffle=True)\n"
   ]
  },
  {
   "cell_type": "markdown",
   "id": "aaa8e389",
   "metadata": {},
   "source": [
    "#### Create the NN"
   ]
  },
  {
   "cell_type": "code",
   "execution_count": 28,
   "id": "ca1f4cc9",
   "metadata": {},
   "outputs": [],
   "source": [
    "import torch.nn as nn\n",
    "import torch.nn.functional as F\n",
    "\n",
    "class SolubilityNN(nn.Module):\n",
    "    def __init__(self, input_size):\n",
    "        super(SolubilityNN, self).__init__()\n",
    "        self.fc1 = nn.Linear(input_size, 128)  # input_size is the number of input features\n",
    "        self.fc2 = nn.Linear(128, 64)\n",
    "        self.fc3 = nn.Linear(64, 1)\n",
    "        self.dropout = nn.Dropout(0.2)  # To avoid overfitting\n",
    "\n",
    "    def forward(self, x):\n",
    "        x = F.relu(self.fc1(x))\n",
    "        x = self.dropout(x)\n",
    "        x = F.relu(self.fc2(x))\n",
    "        x = self.fc3(x)\n",
    "        return x\n",
    "\n",
    "model = SolubilityNN(input_size=X.shape[1])"
   ]
  },
  {
   "cell_type": "markdown",
   "id": "6f029eb9",
   "metadata": {},
   "source": [
    "#### Train it"
   ]
  },
  {
   "cell_type": "code",
   "execution_count": 32,
   "id": "8552e4b6",
   "metadata": {},
   "outputs": [
    {
     "name": "stdout",
     "output_type": "stream",
     "text": [
      "Epoch 10/100, Loss: 0.0336\n",
      "Epoch 20/100, Loss: 0.0274\n",
      "Epoch 30/100, Loss: 0.0349\n",
      "Epoch 40/100, Loss: 0.0614\n",
      "Epoch 50/100, Loss: 0.0159\n",
      "Epoch 60/100, Loss: 0.0872\n",
      "Epoch 70/100, Loss: 0.0333\n",
      "Epoch 80/100, Loss: 0.0210\n",
      "Epoch 90/100, Loss: 0.0050\n",
      "Epoch 100/100, Loss: 0.0047\n"
     ]
    }
   ],
   "source": [
    "optimizer = torch.optim.Adam(model.parameters(), lr=0.0001)\n",
    "loss_fn = nn.MSELoss()\n",
    "\n",
    "# Training\n",
    "n_epochs = 100\n",
    "for epoch in range(n_epochs):\n",
    "    model.train()\n",
    "    for xb, yb in train_loader:\n",
    "        pred = model(xb)\n",
    "        loss = loss_fn(pred, yb)\n",
    "        optimizer.zero_grad()\n",
    "        loss.backward()\n",
    "        optimizer.step()\n",
    "    \n",
    "    if (epoch + 1) % 10 == 0:\n",
    "        print(f\"Epoch {epoch+1}/{n_epochs}, Loss: {loss.item():.4f}\")\n"
   ]
  },
  {
   "cell_type": "markdown",
   "id": "9a6c5a4d",
   "metadata": {},
   "source": [
    "#### Evaluate it"
   ]
  },
  {
   "cell_type": "code",
   "execution_count": 33,
   "id": "5abb3ec8",
   "metadata": {},
   "outputs": [
    {
     "name": "stdout",
     "output_type": "stream",
     "text": [
      "R^2: 0.8877\n",
      "RMSE: 0.7285\n"
     ]
    },
    {
     "data": {
      "image/png": "[encoded data removed]",
      "text/plain": [
       "<Figure size 640x480 with 1 Axes>"
      ]
     },
     "metadata": {},
     "output_type": "display_data"
    }
   ],
   "source": [
    "model.eval()\n",
    "with torch.no_grad():\n",
    "    y_pred_scaled = model(X_test_tensor).numpy()\n",
    "    y_pred = scaler_y.inverse_transform(y_pred_scaled)\n",
    "    y_true = scaler_y.inverse_transform(y_test)\n",
    "\n",
    "show_accuracy(y_pred=y_pred.flatten(), y_test=y_true.flatten())"
   ]
  },
  {
   "cell_type": "markdown",
   "id": "fb89c57d",
   "metadata": {},
   "source": [
    "# Work in progress"
   ]
  },
  {
   "cell_type": "markdown",
   "id": "aee43937",
   "metadata": {},
   "source": []
  }
 ],
 "metadata": {
  "kernelspec": {
   "display_name": ".venv",
   "language": "python",
   "name": "python3"
  },
  "language_info": {
   "codemirror_mode": {
    "name": "ipython",
    "version": 3
   },
   "file_extension": ".py",
   "mimetype": "text/x-python",
   "name": "python",
   "nbconvert_exporter": "python",
   "pygments_lexer": "ipython3",
   "version": "3.12.4"
  }
 },
 "nbformat": 4,
 "nbformat_minor": 5
}
